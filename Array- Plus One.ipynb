{
 "cells": [
  {
   "cell_type": "markdown",
   "metadata": {},
   "source": [
    "# Problem Statement:\n",
    "Given a non-empty array of digits representing a non-negative integer, increment one to the integer.\n",
    "<br>\n",
    "The digits are stored such that the most significant digit is at the head of the list, and each element in the array contains a single digit.\n",
    "<br>\n",
    "You may assume the integer does not contain any leading zero, except the number 0 itself.\n",
    "### Constraints:\n",
    "a) 1 <= digits.length <= 100<br>\n",
    "b) 0 <= digits[i] <= 9"
   ]
  },
  {
   "cell_type": "code",
   "execution_count": 4,
   "metadata": {},
   "outputs": [
    {
     "name": "stdout",
     "output_type": "stream",
     "text": [
      "After adding one: [1, 2, 4]\n",
      "After adding one: [4, 3, 2, 2]\n",
      "After adding one: [1]\n"
     ]
    }
   ],
   "source": [
    "class Solution:\n",
    "    def plusOne(digits):\n",
    "        \n",
    "        n = len(digits) - 1\n",
    "        \n",
    "        digits[n] += 1\n",
    "        carry = digits[n]/10\n",
    "        digits[n] = digits[n] % 10\n",
    "                \n",
    "        for i in range(n-1, -1, -1):\n",
    "            if(carry == 1):\n",
    "                digits[i] += 1\n",
    "                carry = digits[i]/10\n",
    "                digits[i] = digits[i] % 10\n",
    "\n",
    "        if(carry == 1):\n",
    "            digits.insert(0, 1) \n",
    "            \n",
    "        return digits\n",
    "    \n",
    "    print(\"After adding one: \" + str(plusOne([1,2,3])))\n",
    "    print(\"After adding one: \" + str(plusOne([4,3,2,1])))\n",
    "    print(\"After adding one: \" + str(plusOne([0])))"
   ]
  },
  {
   "cell_type": "code",
   "execution_count": null,
   "metadata": {},
   "outputs": [],
   "source": []
  }
 ],
 "metadata": {
  "kernelspec": {
   "display_name": "Python 3",
   "language": "python",
   "name": "python3"
  },
  "language_info": {
   "codemirror_mode": {
    "name": "ipython",
    "version": 3
   },
   "file_extension": ".py",
   "mimetype": "text/x-python",
   "name": "python",
   "nbconvert_exporter": "python",
   "pygments_lexer": "ipython3",
   "version": "3.7.6"
  }
 },
 "nbformat": 4,
 "nbformat_minor": 4
}
