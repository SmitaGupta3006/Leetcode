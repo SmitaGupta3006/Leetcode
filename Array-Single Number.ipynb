{
 "cells": [
  {
   "cell_type": "markdown",
   "metadata": {},
   "source": [
    "# Problem Statement\n",
    "Given a non-empty array of integers, every element appears twice except for one. Find that single one."
   ]
  },
  {
   "cell_type": "code",
   "execution_count": 3,
   "metadata": {},
   "outputs": [
    {
     "name": "stdout",
     "output_type": "stream",
     "text": [
      "the number whice occurs only once is: 1\n",
      "the number whice occurs only once is: 4\n",
      "the number whice occurs only once is: 6\n"
     ]
    }
   ],
   "source": [
    "def singleNumber(nums):\n",
    "\n",
    "# Mathematical and easier way\n",
    "    return 2 * sum(set(nums)) - sum(nums)\n",
    "\n",
    "print(\"the number whice occurs only once is: \" + str(singleNumber([2,2,1])))\n",
    "print(\"the number whice occurs only once is: \" + str(singleNumber([4,1,2,1,2])))\n",
    "print(\"the number whice occurs only once is: \" + str(singleNumber([1,6,3,1,3])))"
   ]
  },
  {
   "cell_type": "code",
   "execution_count": 4,
   "metadata": {},
   "outputs": [
    {
     "name": "stdout",
     "output_type": "stream",
     "text": [
      "the number whice occurs only once is: 1\n",
      "the number whice occurs only once is: 4\n",
      "the number whice occurs only once is: 6\n"
     ]
    }
   ],
   "source": [
    "# Using dictionary:\n",
    "def singleNumber2(nums):\n",
    "        dict = {}\n",
    "        for i in nums:\n",
    "            if i in dict:\n",
    "                dict.pop(i)\n",
    "            else:\n",
    "                dict.update({i: 0})\n",
    "        \n",
    "        for key, val in dict.items():\n",
    "            if val == 0:\n",
    "                return key\n",
    "            \n",
    "print(\"the number whice occurs only once is: \" + str(singleNumber2([2,2,1])))\n",
    "print(\"the number whice occurs only once is: \" + str(singleNumber2([4,1,2,1,2])))\n",
    "print(\"the number whice occurs only once is: \" + str(singleNumber2([1,6,3,1,3])))"
   ]
  },
  {
   "cell_type": "code",
   "execution_count": null,
   "metadata": {},
   "outputs": [],
   "source": []
  }
 ],
 "metadata": {
  "kernelspec": {
   "display_name": "Python 3",
   "language": "python",
   "name": "python3"
  },
  "language_info": {
   "codemirror_mode": {
    "name": "ipython",
    "version": 3
   },
   "file_extension": ".py",
   "mimetype": "text/x-python",
   "name": "python",
   "nbconvert_exporter": "python",
   "pygments_lexer": "ipython3",
   "version": "3.7.6"
  }
 },
 "nbformat": 4,
 "nbformat_minor": 4
}
