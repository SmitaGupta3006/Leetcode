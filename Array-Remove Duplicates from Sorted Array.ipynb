{
 "cells": [
  {
   "cell_type": "markdown",
   "metadata": {},
   "source": [
    "# Problem Statement:\n",
    "Given a sorted array nums, remove the duplicates in-place such that each element appear only once and return the new length.\n",
    "Do not allocate extra space for another array, you must do this by modifying the input array in-place with O(1) extra memory."
   ]
  },
  {
   "cell_type": "code",
   "execution_count": 18,
   "metadata": {},
   "outputs": [
    {
     "name": "stdout",
     "output_type": "stream",
     "text": [
      "No of distinct elements after removing duplicates are 2\n",
      "No of distinct elements after removing duplicates are 5\n",
      "No of distinct elements after removing duplicates are 6\n"
     ]
    }
   ],
   "source": [
    "class Solution:\n",
    "    def removeDuplicates(nums):\n",
    "            n = len(nums)\n",
    "            if n <= 1: return n;\n",
    "            i=j=1\n",
    "            while i<n:\n",
    "                if nums[i] != nums[i-1]:\n",
    "                    nums[j] = nums[i]\n",
    "                    j += 1\n",
    "                i += 1\n",
    "            return j\n",
    "\n",
    "    print(\"No of distinct elements after removing duplicates are \" + str(removeDuplicates([1,1,2])))\n",
    "    print(\"No of distinct elements after removing duplicates are \" + str(removeDuplicates([0,0,1,1,1,2,2,3,3,4])))\n",
    "    print(\"No of distinct elements after removing duplicates are \" + str(removeDuplicates([0,1,3,6,7,7,9])))"
   ]
  }
 ],
 "metadata": {
  "kernelspec": {
   "display_name": "Python 3",
   "language": "python",
   "name": "python3"
  },
  "language_info": {
   "codemirror_mode": {
    "name": "ipython",
    "version": 3
   },
   "file_extension": ".py",
   "mimetype": "text/x-python",
   "name": "python",
   "nbconvert_exporter": "python",
   "pygments_lexer": "ipython3",
   "version": "3.7.6"
  }
 },
 "nbformat": 4,
 "nbformat_minor": 4
}
