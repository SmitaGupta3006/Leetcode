{
 "cells": [
  {
   "cell_type": "markdown",
   "metadata": {},
   "source": [
    "# Problem Statement\n",
    "Given two arrays, write a function to compute their intersection.\n",
    "#### Note:\n",
    "Each element in the result should appear as many times as it shows in both arrays.<br>\n",
    "The result can be in any order."
   ]
  },
  {
   "cell_type": "code",
   "execution_count": 2,
   "metadata": {},
   "outputs": [
    {
     "name": "stdout",
     "output_type": "stream",
     "text": [
      "The intersection of the array is: [2, 2]\n",
      "The intersection of the array is: [4, 9]\n"
     ]
    }
   ],
   "source": [
    "def intersect(nums1, nums2):\n",
    "        \n",
    "    nums1.sort()\n",
    "    nums2.sort()\n",
    "\n",
    "    final_list = []\n",
    "    i = 0\n",
    "    j = 0\n",
    "\n",
    "    while i < len(nums1) and j < len(nums2):\n",
    "        if nums1[i] == nums2[j]:\n",
    "            final_list.append(nums1[i])\n",
    "            i+=1\n",
    "            j+=1\n",
    "        elif nums1[i] < nums2[j]:\n",
    "            i+=1\n",
    "        else:\n",
    "            j+=1\n",
    "\n",
    "    return final_list\n",
    "\n",
    "print(\"The intersection of the array is: \" + str(intersect([1,2,2,1],[2,2])))\n",
    "print(\"The intersection of the array is: \" + str(intersect([4,9,5],[9,4,9,8,4])))"
   ]
  },
  {
   "cell_type": "code",
   "execution_count": 6,
   "metadata": {},
   "outputs": [
    {
     "name": "stdout",
     "output_type": "stream",
     "text": [
      "The intersection of the array is: [2, 2]\n",
      "The intersection of the array is: [4, 9]\n"
     ]
    }
   ],
   "source": [
    "def intersect2(nums1, nums2):\n",
    "    final_list = []\n",
    "    \n",
    "    for x in nums1:\n",
    "        if x in nums2:\n",
    "            final_list.append(x)\n",
    "            nums2.remove(x)\n",
    "    return final_list\n",
    "\n",
    "print(\"The intersection of the array is: \" + str(intersect2([1,2,2,1],[2,2])))\n",
    "print(\"The intersection of the array is: \" + str(intersect2([4,9,5],[9,4,9,8,4])))"
   ]
  },
  {
   "cell_type": "code",
   "execution_count": null,
   "metadata": {},
   "outputs": [],
   "source": []
  }
 ],
 "metadata": {
  "kernelspec": {
   "display_name": "Python 3",
   "language": "python",
   "name": "python3"
  },
  "language_info": {
   "codemirror_mode": {
    "name": "ipython",
    "version": 3
   },
   "file_extension": ".py",
   "mimetype": "text/x-python",
   "name": "python",
   "nbconvert_exporter": "python",
   "pygments_lexer": "ipython3",
   "version": "3.7.6"
  }
 },
 "nbformat": 4,
 "nbformat_minor": 4
}
