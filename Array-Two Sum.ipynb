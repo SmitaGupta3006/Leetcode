{
 "cells": [
  {
   "cell_type": "markdown",
   "metadata": {},
   "source": [
    "# Problem Statement\n",
    "Given an array of integers, return indices of the two numbers such that they add up to a specific target.\n",
    "<br>\n",
    "You may assume that each input would have exactly one solution, and you may not use the same element twice."
   ]
  },
  {
   "cell_type": "code",
   "execution_count": 2,
   "metadata": {},
   "outputs": [
    {
     "name": "stdout",
     "output_type": "stream",
     "text": [
      "Indices of the two numbers adding upto the target are: [0, 1]\n",
      "Indices of the two numbers adding upto the target are: [0, 2]\n"
     ]
    }
   ],
   "source": [
    "class Solution:\n",
    "    def twoSum(nums, target):\n",
    "        \n",
    "        if len(nums) <= 1:\n",
    "            return False\n",
    "        \n",
    "        dict = {}\n",
    "        \n",
    "        for i in range(len(nums)):\n",
    "            if nums[i] in dict:\n",
    "                return[dict[nums[i]], i]\n",
    "            else:\n",
    "                dict[target - nums[i]] = i\n",
    "                \n",
    "    print(\"Indices of the two numbers adding upto the target are: \" + str(twoSum([2, 7, 11, 15],9)))\n",
    "    print(\"Indices of the two numbers adding upto the target are: \" + str(twoSum([2, 7, 4],6)))    "
   ]
  }
 ],
 "metadata": {
  "kernelspec": {
   "display_name": "Python 3",
   "language": "python",
   "name": "python3"
  },
  "language_info": {
   "codemirror_mode": {
    "name": "ipython",
    "version": 3
   },
   "file_extension": ".py",
   "mimetype": "text/x-python",
   "name": "python",
   "nbconvert_exporter": "python",
   "pygments_lexer": "ipython3",
   "version": "3.7.6"
  }
 },
 "nbformat": 4,
 "nbformat_minor": 4
}
