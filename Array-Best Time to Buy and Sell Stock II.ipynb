{
 "cells": [
  {
   "cell_type": "markdown",
   "metadata": {},
   "source": [
    "# Problem Statement:\n",
    "Say you have an array prices for which the ith element is the price of a given stock on day i.\n",
    "<br>\n",
    "Design an algorithm to find the maximum profit. You may complete as many transactions as you like (i.e., buy one and sell one share of the stock multiple times).\n",
    "<br>\n",
    "Note: You may not engage in multiple transactions at the same time (i.e., you must sell the stock before you buy again)."
   ]
  },
  {
   "cell_type": "code",
   "execution_count": 3,
   "metadata": {},
   "outputs": [
    {
     "name": "stdout",
     "output_type": "stream",
     "text": [
      "Maximum Profit is 7\n",
      "Maximum Profit is 4\n",
      "Maximum Profit is 0\n"
     ]
    }
   ],
   "source": [
    "class Solution:\n",
    "    def maxProfit(prices):\n",
    "    \n",
    "        profit = 0\n",
    "        \n",
    "        for i in range(1, len(prices)):\n",
    "            if prices[i-1]<prices[i]:\n",
    "                profit += prices[i] - prices[i-1]\n",
    "                \n",
    "        return profit\n",
    "    \n",
    "    print(\"Maximum Profit is \" + str(maxProfit([7,1,5,3,6,4])))\n",
    "    print(\"Maximum Profit is \" + str(maxProfit([1,2,3,4,5])))\n",
    "    print(\"Maximum Profit is \" + str(maxProfit([7,6,4,3,1])))"
   ]
  },
  {
   "cell_type": "code",
   "execution_count": null,
   "metadata": {},
   "outputs": [],
   "source": []
  }
 ],
 "metadata": {
  "kernelspec": {
   "display_name": "Python 3",
   "language": "python",
   "name": "python3"
  },
  "language_info": {
   "codemirror_mode": {
    "name": "ipython",
    "version": 3
   },
   "file_extension": ".py",
   "mimetype": "text/x-python",
   "name": "python",
   "nbconvert_exporter": "python",
   "pygments_lexer": "ipython3",
   "version": "3.7.6"
  }
 },
 "nbformat": 4,
 "nbformat_minor": 4
}
