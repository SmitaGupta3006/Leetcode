{
 "cells": [
  {
   "cell_type": "markdown",
   "metadata": {},
   "source": [
    "# Problem Statement:\n",
    "Given an array, rotate the array to the right by k steps, where k is non-negative. \n",
    "#### Constraints:\n",
    "a) 1 <= nums.length <= 2 * 10^4<br>\n",
    "b) It's guaranteed that nums[i] fits in a 32 bit-signed integer.<br>\n",
    "c) k >= 0"
   ]
  },
  {
   "cell_type": "code",
   "execution_count": 5,
   "metadata": {},
   "outputs": [
    {
     "name": "stdout",
     "output_type": "stream",
     "text": [
      "After rotation, the array becomes: [5, 6, 7, 1, 2, 3, 4]\n",
      "After rotation, the array becomes: [3, 99, -1, -100]\n"
     ]
    }
   ],
   "source": [
    "class Solution:\n",
    "    def rotate(nums, k):\n",
    "        \"\"\"\n",
    "        Do not return anything, modify nums in-place instead.\n",
    "        \"\"\"\n",
    "        def reverse(nums, i, j):\n",
    "            a = 0\n",
    "            while a <= (j-i)//2:\n",
    "                nums[i+a], nums[j-a] = nums[j-a], nums[i+a] \n",
    "                a+=1\n",
    "            return nums\n",
    "        \n",
    "        n = len(nums)\n",
    "        \n",
    "        #If number of steps is greater than the total length ofthe array\n",
    "        if k > n:\n",
    "            k = k % n\n",
    "\n",
    "        #Reverse the whole array\n",
    "        reverse(nums, 0, n-1)\n",
    "\n",
    "        #Reverse first subarray\n",
    "        reverse(nums, 0, k-1)\n",
    "\n",
    "        #Reverse second subarray\n",
    "        return reverse(nums, k, n-1)\n",
    "    \n",
    "    print(\"After rotation, the array becomes: \" + str(rotate([1,2,3,4,5,6,7], 3)))\n",
    "    print(\"After rotation, the array becomes: \" + str(rotate([-1,-100,3,99], 2)))"
   ]
  },
  {
   "cell_type": "code",
   "execution_count": 2,
   "metadata": {},
   "outputs": [],
   "source": [
    "# Brute force: Time: O(n.k)  Space: O(n)\n",
    "# Extra Array: Time: O(n)    Space: O(n)\n",
    "# In-place:    Time: O(n)    Space: O(1)"
   ]
  }
 ],
 "metadata": {
  "kernelspec": {
   "display_name": "Python 3",
   "language": "python",
   "name": "python3"
  },
  "language_info": {
   "codemirror_mode": {
    "name": "ipython",
    "version": 3
   },
   "file_extension": ".py",
   "mimetype": "text/x-python",
   "name": "python",
   "nbconvert_exporter": "python",
   "pygments_lexer": "ipython3",
   "version": "3.7.6"
  }
 },
 "nbformat": 4,
 "nbformat_minor": 4
}
